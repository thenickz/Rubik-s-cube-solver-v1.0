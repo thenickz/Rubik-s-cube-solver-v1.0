{
 "cells": [
  {
   "cell_type": "code",
   "execution_count": 83,
   "id": "89980c82",
   "metadata": {},
   "outputs": [],
   "source": [
    "import numpy as np"
   ]
  },
  {
   "cell_type": "code",
   "execution_count": 84,
   "id": "6a1fadd2",
   "metadata": {},
   "outputs": [],
   "source": [
    "\n",
    "azul = [('b'+str(x)) for x in range(10)]\n",
    "verde = [('g'+str(x)) for x in range(10)]\n",
    "amarelo = [('y'+str(x)) for x in range(10)]\n",
    "branco = [('w'+str(x)) for x in range(10)]\n",
    "vermelho = [('r'+str(x)) for x in range(10)]\n",
    "laranja = [('o'+str(x)) for x in range(10)]\n",
    "p = [['.......', '.......', 'branco','.......', '.......'],\n",
    "            ['.......', '.......', 'amarelo','.......', '.......'],\n",
    "            ['vermelho', 'verde' , 'azul', 'vermelho', 'verde'], \n",
    "            ['.......', '.......', 'branco', '.......', '.......'],\n",
    "            ['.......','.......', 'amarelo', '.......', '.......']]"
   ]
  },
  {
   "cell_type": "code",
   "execution_count": 85,
   "id": "5475ce5f",
   "metadata": {},
   "outputs": [
    {
     "name": "stdout",
     "output_type": "stream",
     "text": [
      "['r0', 'r1', 'r2', 'r3', 'r4', 'r5', 'r6', 'r7', 'r8', 'r9']\n",
      "['b0', 'b1', 'b2', 'b3', 'b4', 'b5', 'b6', 'b7', 'b8', 'b9']\n",
      "['w0', 'w1', 'w2', 'w3', 'w4', 'w5', 'w6', 'w7', 'w8', 'w9']\n",
      "['g0', 'g1', 'g2', 'g3', 'g4', 'g5', 'g6', 'g7', 'g8', 'g9']\n",
      "['y0', 'y1', 'y2', 'y3', 'y4', 'y5', 'y6', 'y7', 'y8', 'y9']\n",
      "['o0', 'o1', 'o2', 'o3', 'o4', 'o5', 'o6', 'o7', 'o8', 'o9']\n",
      "['.......', '.......', 'branco', '.......', '.......']\n",
      "['.......', '.......', 'amarelo', '.......', '.......']\n",
      "['vermelho', 'verde', 'azul', 'vermelho', 'verde']\n",
      "['.......', '.......', 'branco', '.......', '.......']\n",
      "['.......', '.......', 'amarelo', '.......', '.......']\n"
     ]
    }
   ],
   "source": [
    "cores = [vermelho, azul, branco, verde, amarelo, laranja]\n",
    "for colour in cores:\n",
    "    print(colour)\n",
    "for po in p:\n",
    "    print(po)"
   ]
  },
  {
   "cell_type": "code",
   "execution_count": 86,
   "id": "6934e4ae",
   "metadata": {},
   "outputs": [
    {
     "name": "stdout",
     "output_type": "stream",
     "text": [
      "[['w0' 'w1' 'w2']\n",
      " ['w3' 'w4' 'w5']\n",
      " ['w6' 'w7' 'w8']]\n"
     ]
    }
   ],
   "source": [
    "\n",
    "face_azul = np.array([(azul[0], azul[1], azul[2]), \n",
    "                   (azul[3], azul[4], azul[5]),\n",
    "                   (azul[6], azul[7], azul[8])])\n",
    "\n",
    "face_vermelha = np.array([(vermelho[0], vermelho[1], vermelho[2]), \n",
    "                          (vermelho[3], vermelho[4], vermelho[5]), \n",
    "                          (vermelho[6], vermelho[7], vermelho[8])])\n",
    "face_branca = np.array([(branco[0], branco[1], branco[2]), \n",
    "                          (branco[3], branco[4], branco[5]), \n",
    "                          (branco[6], branco[7], branco[8])])\n",
    "\n",
    "face_verde = np.array([(verde[0], verde[1], verde[2]), \n",
    "                          (verde[3], verde[4], verde[5]), \n",
    "                          (verde[6], verde[7], verde[8])])\n",
    "\n",
    "face_amarela = np.array([(amarelo[0], amarelo[1], amarelo[2]), \n",
    "                          (amarelo[3], amarelo[4], amarelo[5]), \n",
    "                          (amarelo[6], amarelo[7], amarelo[8])])\n",
    "\n",
    "face_laranja = np.array([(laranja[0], laranja[1], laranja[2]), \n",
    "                          (laranja[3], laranja[4], laranja[5]), \n",
    "                          (laranja[6], laranja[7], laranja[8])])\n",
    "print(face_branca)"
   ]
  },
  {
   "cell_type": "code",
   "execution_count": 87,
   "id": "2acf69a7",
   "metadata": {},
   "outputs": [],
   "source": [
    "# correspondencias\n",
    "# FRONTEIRAS\n",
    "# amarelo\n",
    "# laranja - azul - vermelho - verde - laranja\n",
    "# branco\n",
    "#\n",
    "# QUINAS\n",
    "# azul[8] = vermelho[6] = branco[2]\n",
    "# azul[6] = lanraja[8] = branco[0]\n",
    "# azul[2] = vermelho[0] = amarelo[8]\n",
    "# azul[0] = lanraja[2] = amarelo[6]\n",
    "\n",
    "# verde[8] = lanraja[6] = branco[6]\n",
    "# verde[6] = vermelho[8] = branco[8]\n",
    "# verde[2] = laranja[0] = amarelo[0]\n",
    "# verde[0] = vermelho[2] = amarelo[2]\n",
    "\n",
    "# BORDAS\n",
    "# azul[1] = amarelo[7]\n",
    "# azul[5] = vermelho[3]\n",
    "# azul[7] = branco[1]\n",
    "# azul[3] = laranja[5]\n",
    "\n",
    "# vermelho[1] = amarelo[5]\n",
    "# vermelho[7] = branco[5]\n",
    "# laranja [1] = amarelo[3]\n",
    "# laranja[7] = branco[3]\n",
    "\n",
    "# verde[1] = amarelo[1]\n",
    "# verde[5] = laranja[3]\n",
    "# verde[7] = branco[7]\n",
    "# verde[3] = vemelho[5]\n",
    "\n",
    "# CENTRAL\n",
    "# azul[4], vermelho[4], branco[4], verde[4], amarelo[4], laranja[4]"
   ]
  },
  {
   "cell_type": "code",
   "execution_count": 88,
   "id": "845144d8",
   "metadata": {},
   "outputs": [],
   "source": [
    "def girar(face):\n",
    "    np.rot90(face)\n",
    "    saved_w1 = face_branca[0, 0]\n",
    "    saved_w2 = face_branca[0, 1]\n",
    "    saved_w3 = face_branca[0, 2]\n",
    "    \n",
    "    saved_r1 = face_vermelha[0, 0]\n",
    "    saved_r2 = face_vermelha[1, 0]\n",
    "    saved_r3 = face_vermelha[2, 0]\n",
    "    \n",
    "    saved_y1 = face_amarela[2, 0]\n",
    "    saved_y2 = face_amarela[2, 1]\n",
    "    saved_y3 = face_amarela[2, 2]\n",
    "    \n",
    "    saved_o1 = face_laranja[0, 2]\n",
    "    saved_o2 = face_laranja[0, 2]\n",
    "    saved_o3 = face_laranja[2, 2]\n",
    "    \n",
    "    # fix this below:\n",
    "    face_branca[0, 0] = face_laranja[0, 2]\n",
    "    face_branca[0, 1] = face_laranja[1, 2]\n",
    "    face_branca[0, 2] = face_laranja[2, 2]\n",
    "\n",
    "    face_vermelha[0, 0] = face_branca[0, 2]\n",
    "    face_vermelha[1, 0] = face_branca[1, 2]\n",
    "    face_vermelha[2, 0] = face_branca[2, 2]\n",
    "\n",
    "    face_amarela[2, 0] = face_vermelha[0, 0]\n",
    "    face_amarela[2, 1] = face_vermelha[1, 0]\n",
    "    face_amarela[2, 2] = face_vermelha[2, 0]\n",
    "\n",
    "    face_laranja[0, 2] = face_amarela[2, 0]\n",
    "    face_laranja[1, 2] = face_amarela[2, 1]\n",
    "    face_laranja[2, 2] = face_amarela[2, 2]\n",
    "    # until here"
   ]
  },
  {
   "cell_type": "code",
   "execution_count": 89,
   "id": "9fde8945",
   "metadata": {},
   "outputs": [
    {
     "name": "stdout",
     "output_type": "stream",
     "text": [
      "[['r0' 'r1' 'r2']\n",
      " ['r3' 'r4' 'r5']\n",
      " ['r6' 'r7' 'r8']]\n",
      "[['w0' 'w1' 'w2']\n",
      " ['w3' 'w4' 'w5']\n",
      " ['w6' 'w7' 'w8']]\n"
     ]
    }
   ],
   "source": [
    "#print(face_azul)\n",
    "print(face_vermelha)\n",
    "#print(face_laranja)\n",
    "print(face_branca)\n",
    "#print(face_amarela)"
   ]
  },
  {
   "cell_type": "code",
   "execution_count": 90,
   "id": "aac66bc7",
   "metadata": {},
   "outputs": [
    {
     "name": "stdout",
     "output_type": "stream",
     "text": [
      "[['o8' 'r1' 'r2']\n",
      " ['w5' 'r4' 'r5']\n",
      " ['w8' 'r7' 'r8']]\n"
     ]
    }
   ],
   "source": [
    "girar(face_azul)\n",
    "\n",
    "print(face_vermelha)\n"
   ]
  },
  {
   "cell_type": "code",
   "execution_count": null,
   "id": "82fc8c15",
   "metadata": {},
   "outputs": [],
   "source": []
  },
  {
   "cell_type": "code",
   "execution_count": null,
   "id": "953ac70c",
   "metadata": {},
   "outputs": [],
   "source": []
  }
 ],
 "metadata": {
  "kernelspec": {
   "display_name": "Python 3",
   "language": "python",
   "name": "python3"
  },
  "language_info": {
   "codemirror_mode": {
    "name": "ipython",
    "version": 3
   },
   "file_extension": ".py",
   "mimetype": "text/x-python",
   "name": "python",
   "nbconvert_exporter": "python",
   "pygments_lexer": "ipython3",
   "version": "3.6.13"
  }
 },
 "nbformat": 4,
 "nbformat_minor": 5
}
