{
 "cells": [
  {
   "cell_type": "code",
   "execution_count": 3,
   "id": "a68b63aa",
   "metadata": {},
   "outputs": [],
   "source": [
    "import numpy as np\n",
    "from random import randint"
   ]
  },
  {
   "cell_type": "code",
   "execution_count": 4,
   "id": "367acf21",
   "metadata": {},
   "outputs": [],
   "source": [
    "white = [1 for _ in range(9)]\n",
    "blue = [2 for _ in range(9)]\n",
    "green = [3 for _ in range(9)]\n",
    "yellow = [4 for _ in range(9)]\n",
    "orange = [5 for _ in range(9)]\n",
    "red = [6 for _ in range(9)]\n",
    "face_white = np.array([(white[0], white[1], white[2]), \n",
    "                       (white[3], white[4], white[5]), \n",
    "                       (white[6], white[7], white[8])])\n",
    "\n",
    "face_blue = np.array([(blue[0], blue[1], blue[2]), \n",
    "                      (blue[3], blue[4], blue[5]),\n",
    "                      (blue[6], blue[7], blue[8])])\n",
    "\n",
    "face_green = np.array([(green[0], green[1], green[2]), \n",
    "                       (green[3], green[4], green[5]), \n",
    "                       (green[6], green[7], green[8])])\n",
    "\n",
    "face_yellow = np.array([(yellow[0], yellow[1], yellow[2]), \n",
    "                        (yellow[3], yellow[4], yellow[5]), \n",
    "                        (yellow[6], yellow[7], yellow[8])])\n",
    "\n",
    "face_orange = np.array([(orange[0], orange[1], orange[2]), \n",
    "                        (orange[3], orange[4], orange[5]), \n",
    "                        (orange[6], orange[7], orange[8])])\n",
    "\n",
    "face_red = np.array([(red[0], red[1], red[2]), \n",
    "                     (red[3], red[4], red[5]), \n",
    "                     (red[6], red[7], red[8])])"
   ]
  },
  {
   "cell_type": "code",
   "execution_count": 5,
   "id": "a6f86742",
   "metadata": {},
   "outputs": [
    {
     "data": {
      "image/png": "[encoded data removed]",
      "text/plain": [
       "<Figure size 432x288 with 2 Axes>"
      ]
     },
     "metadata": {
      "needs_background": "light"
     },
     "output_type": "display_data"
    }
   ],
   "source": [
    "import matplotlib.pyplot as plt\n",
    "import matplotlib.colors as mcolors\n",
    "\n",
    "\n",
    "cmap, norm = mcolors.from_levels_and_colors([1, 2, 3, 4, 5, 6, 7], ['lavender', 'blue', 'limegreen', 'yellow', 'orange', 'red'])\n",
    "\n",
    "plt.imshow(face_white, cmap=cmap, norm=norm)\n",
    "plt.grid()\n",
    "plt.colorbar()\n",
    "\n",
    "plt.show()\n",
    "# now i have to test if it spins correct, probabily i will have to fix the functions.py doc"
   ]
  }
 ],
 "metadata": {
  "kernelspec": {
   "display_name": "Python 3",
   "language": "python",
   "name": "python3"
  },
  "language_info": {
   "codemirror_mode": {
    "name": "ipython",
    "version": 3
   },
   "file_extension": ".py",
   "mimetype": "text/x-python",
   "name": "python",
   "nbconvert_exporter": "python",
   "pygments_lexer": "ipython3",
   "version": "3.6.13"
  }
 },
 "nbformat": 4,
 "nbformat_minor": 5
}
