{
 "cells": [
  {
   "cell_type": "code",
   "execution_count": 15,
   "id": "89980c82",
   "metadata": {},
   "outputs": [],
   "source": [
    "import numpy as np"
   ]
  },
  {
   "cell_type": "code",
   "execution_count": 16,
   "id": "6a1fadd2",
   "metadata": {},
   "outputs": [],
   "source": [
    "# arrays IDs\n",
    "red = [('r'+str(x)) for x in range(9)]\n",
    "blue = [('b'+str(x)) for x in range(9)]\n",
    "white = [('w'+str(x)) for x in range(9)]\n",
    "green = [('g'+str(x)) for x in range(9)]\n",
    "yellow = [('y'+str(x)) for x in range(9)]\n",
    "orange = [('o'+str(x)) for x in range(9)]"
   ]
  },
  {
   "cell_type": "code",
   "execution_count": 17,
   "id": "5475ce5f",
   "metadata": {},
   "outputs": [
    {
     "name": "stdout",
     "output_type": "stream",
     "text": [
      "['r0', 'r1', 'r2', 'r3', 'r4', 'r5', 'r6', 'r7', 'r8']\n",
      "['b0', 'b1', 'b2', 'b3', 'b4', 'b5', 'b6', 'b7', 'b8']\n",
      "['w0', 'w1', 'w2', 'w3', 'w4', 'w5', 'w6', 'w7', 'w8']\n",
      "['g0', 'g1', 'g2', 'g3', 'g4', 'g5', 'g6', 'g7', 'g8']\n",
      "['y0', 'y1', 'y2', 'y3', 'y4', 'y5', 'y6', 'y7', 'y8']\n",
      "['o0', 'o1', 'o2', 'o3', 'o4', 'o5', 'o6', 'o7', 'o8']\n"
     ]
    }
   ],
   "source": [
    "colours = [red, blue, white, green, yellow, orange]\n",
    "for item in colours: print(item)"
   ]
  },
  {
   "cell_type": "code",
   "execution_count": 18,
   "id": "6934e4ae",
   "metadata": {},
   "outputs": [],
   "source": [
    "# creating each face from cube\n",
    "face_blue = np.array([(blue[0], blue[1], blue[2]), \n",
    "                      (blue[3], blue[4], blue[5]),\n",
    "                      (blue[6], blue[7], blue[8])])\n",
    "\n",
    "face_red = np.array([(red[0], red[1], red[2]), \n",
    "                     (red[3], red[4], red[5]), \n",
    "                     (red[6], red[7], red[8])])\n",
    "\n",
    "face_white = np.array([(white[0], white[1], white[2]), \n",
    "                       (white[3], white[4], white[5]), \n",
    "                       (white[6], white[7], white[8])])\n",
    "\n",
    "face_green = np.array([(green[0], green[1], green[2]), \n",
    "                       (green[3], green[4], green[5]), \n",
    "                       (green[6], green[7], green[8])])\n",
    "\n",
    "face_yellow = np.array([(yellow[0], yellow[1], yellow[2]), \n",
    "                        (yellow[3], yellow[4], yellow[5]), \n",
    "                        (yellow[6], yellow[7], yellow[8])])\n",
    "\n",
    "face_orange = np.array([(orange[0], orange[1], orange[2]), \n",
    "                        (orange[3], orange[4], orange[5]), \n",
    "                        (orange[6], orange[7], orange[8])])\n"
   ]
  },
  {
   "cell_type": "code",
   "execution_count": 23,
   "id": "845144d8",
   "metadata": {},
   "outputs": [],
   "source": [
    "def girar(face):\n",
    "    np.rot90(face)\n",
    "    # backup\n",
    "    saved_w1 = face_white[0, 0]\n",
    "    saved_w2 = face_white[0, 1]\n",
    "    saved_w3 = face_white[0, 2]\n",
    "    \n",
    "    saved_r1 = face_red[0, 0]\n",
    "    saved_r2 = face_red[1, 0]\n",
    "    saved_r3 = face_red[2, 0]\n",
    "    \n",
    "    saved_y1 = face_yellow[2, 0]\n",
    "    saved_y2 = face_yellow[2, 1]\n",
    "    saved_y3 = face_yellow[2, 2]\n",
    "    \n",
    "    saved_o1 = face_orange[0, 2]\n",
    "    saved_o2 = face_orange[1, 2]\n",
    "    saved_o3 = face_orange[2, 2]\n",
    "    \n",
    "    # giro dos quinas/cantos\n",
    "    \n",
    "    face_white[0, 0] = saved_o1\n",
    "    face_white[0, 1] = saved_o2 \n",
    "    face_white[0, 2] = saved_o3\n",
    "\n",
    "    face_red[0, 0] = saved_w3\n",
    "    face_red[1, 0] = saved_w2\n",
    "    face_red[2, 0] = saved_w1\n",
    "\n",
    "    face_yellow[2, 0] = saved_r1\n",
    "    face_yellow[2, 1] = saved_r2\n",
    "    face_yellow[2, 2] = saved_r3\n",
    "\n",
    "    face_orange[0, 2] = saved_y1\n",
    "    face_orange[1, 2] = saved_y2\n",
    "    face_orange[2, 2] = saved_y3\n",
    "    "
   ]
  },
  {
   "cell_type": "code",
   "execution_count": null,
   "id": "c3802d6f",
   "metadata": {},
   "outputs": [],
   "source": []
  },
  {
   "cell_type": "code",
   "execution_count": 20,
   "id": "9fde8945",
   "metadata": {},
   "outputs": [
    {
     "name": "stdout",
     "output_type": "stream",
     "text": [
      "[['b0' 'b1' 'b2']\n",
      " ['b3' 'b4' 'b5']\n",
      " ['b6' 'b7' 'b8']] \n",
      "\n",
      "[['r0' 'r1' 'r2']\n",
      " ['r3' 'r4' 'r5']\n",
      " ['r6' 'r7' 'r8']] \n",
      "\n",
      "[['o0' 'o1' 'o2']\n",
      " ['o3' 'o4' 'o5']\n",
      " ['o6' 'o7' 'o8']] \n",
      "\n",
      "[['w0' 'w1' 'w2']\n",
      " ['w3' 'w4' 'w5']\n",
      " ['w6' 'w7' 'w8']] \n",
      "\n",
      "[['y0' 'y1' 'y2']\n",
      " ['y3' 'y4' 'y5']\n",
      " ['y6' 'y7' 'y8']]\n"
     ]
    }
   ],
   "source": [
    "print(face_blue, '\\n')\n",
    "print(face_red, '\\n')\n",
    "print(face_orange, '\\n')\n",
    "print(face_white, '\\n')\n",
    "print(face_yellow)"
   ]
  },
  {
   "cell_type": "code",
   "execution_count": 21,
   "id": "7f2f2a18",
   "metadata": {},
   "outputs": [],
   "source": [
    "girar(face_blue)"
   ]
  },
  {
   "cell_type": "code",
   "execution_count": 22,
   "id": "aac66bc7",
   "metadata": {},
   "outputs": [
    {
     "name": "stdout",
     "output_type": "stream",
     "text": [
      "[['b0' 'b1' 'b2']\n",
      " ['b3' 'b4' 'b5']\n",
      " ['b6' 'b7' 'b8']] \n",
      "\n",
      "[['w2' 'r1' 'r2']\n",
      " ['w1' 'r4' 'r5']\n",
      " ['w0' 'r7' 'r8']] \n",
      "\n",
      "[['o0' 'o1' 'y6']\n",
      " ['o3' 'o4' 'y7']\n",
      " ['o6' 'o7' 'y6']] \n",
      "\n",
      "[['o2' 'o5' 'o8']\n",
      " ['w3' 'w4' 'w5']\n",
      " ['w6' 'w7' 'w8']] \n",
      "\n",
      "[['y0' 'y1' 'y2']\n",
      " ['y3' 'y4' 'y5']\n",
      " ['r0' 'r3' 'r6']]\n"
     ]
    }
   ],
   "source": [
    "print(face_blue, '\\n')\n",
    "print(face_red, '\\n')\n",
    "print(face_orange, '\\n')\n",
    "print(face_white, '\\n')\n",
    "print(face_yellow)"
   ]
  },
  {
   "cell_type": "code",
   "execution_count": null,
   "id": "6b56c9d8",
   "metadata": {},
   "outputs": [],
   "source": []
  }
 ],
 "metadata": {
  "kernelspec": {
   "display_name": "Python 3",
   "language": "python",
   "name": "python3"
  },
  "language_info": {
   "codemirror_mode": {
    "name": "ipython",
    "version": 3
   },
   "file_extension": ".py",
   "mimetype": "text/x-python",
   "name": "python",
   "nbconvert_exporter": "python",
   "pygments_lexer": "ipython3",
   "version": "3.6.13"
  }
 },
 "nbformat": 4,
 "nbformat_minor": 5
}
